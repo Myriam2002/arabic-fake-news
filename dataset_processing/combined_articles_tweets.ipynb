{
 "cells": [
  {
   "cell_type": "code",
   "execution_count": null,
   "metadata": {
    "vscode": {
     "languageId": "plaintext"
    }
   },
   "outputs": [],
   "source": [
    "import pandas as pd\n",
    "\n",
    "# Paths to the input CSV files\n",
    "file1 = '../Articles_dataset_preparation/articles_dataset.csv'\n",
    "file2 = '../tweets_dataset_preparation/tweets_dataset.csv'\n",
    "\n",
    "# Read the CSV files\n",
    "df1 = pd.read_csv(file1)\n",
    "df2 = pd.read_csv(file2)\n",
    "\n",
    "# Concatenate the DataFrames\n",
    "combined_df = pd.concat([df1, df2], ignore_index=True)\n",
    "\n",
    "# Shuffle the combined DataFrame\n",
    "shuffled_df = combined_df.sample(frac=1, random_state=42).reset_index(drop=True)\n",
    "\n",
    "# Save the shuffled DataFrame to a new CSV file\n",
    "output_file = 'combined_dataset.csv'\n",
    "shuffled_df.to_csv(output_file, index=False)\n",
    "\n",
    "print(f\"Combined and shuffled dataset saved to {output_file}\")\n"
   ]
  }
 ],
 "metadata": {
  "language_info": {
   "name": "python"
  }
 },
 "nbformat": 4,
 "nbformat_minor": 2
}
