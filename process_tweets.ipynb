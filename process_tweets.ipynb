{
 "cells": [
  {
   "cell_type": "code",
   "execution_count": 52,
   "metadata": {},
   "outputs": [
    {
     "name": "stdout",
     "output_type": "stream",
     "text": [
      "CSV file saved to tweets.csv\n"
     ]
    }
   ],
   "source": [
    "import pandas as pd\n",
    "\n",
    "# Input and Output file paths\n",
    "tsv_file = 'Tweets.txt'  # Path to your input TSV file\n",
    "csv_file = 'tweets.csv'  # Path to save the output CSV file\n",
    "\n",
    "# Read the TSV file using pandas\n",
    "df = pd.read_csv(tsv_file, sep='\\t')  # sep='\\t' indicates tab-separated values\n",
    "\n",
    "# Write the DataFrame to a CSV file\n",
    "df.to_csv(csv_file, index=False)\n",
    "\n",
    "print(f\"CSV file saved to {csv_file}\")"
   ]
  },
  {
   "cell_type": "code",
   "execution_count": 53,
   "metadata": {},
   "outputs": [
    {
     "name": "stderr",
     "output_type": "stream",
     "text": [
      "[nltk_data] Downloading package stopwords to\n",
      "[nltk_data]     /Users/menaattia/nltk_data...\n",
      "[nltk_data]   Package stopwords is already up-to-date!\n",
      "[nltk_data] Downloading package punkt to /Users/menaattia/nltk_data...\n",
      "[nltk_data]   Package punkt is already up-to-date!\n",
      "[nltk_data] Downloading package punkt_tab to\n",
      "[nltk_data]     /Users/menaattia/nltk_data...\n",
      "[nltk_data]   Package punkt_tab is already up-to-date!\n"
     ]
    }
   ],
   "source": [
    "import re\n",
    "import nltk\n",
    "import pandas as pd\n",
    "from nltk.tokenize import word_tokenize\n",
    "from nltk.corpus import stopwords\n",
    "nltk.download('stopwords')\n",
    "nltk.download('punkt')\n",
    "nltk.download('punkt_tab')\n",
    "\n",
    "\n",
    "input_file = \"tweets.csv\" \n",
    "output_file = \"processed_tweets_with_duplicates.csv\" \n",
    "\n",
    "df = pd.read_csv(input_file)\n",
    "\n",
    "tweets = df['tweetText'].tolist()"
   ]
  },
  {
   "cell_type": "code",
   "execution_count": 55,
   "metadata": {},
   "outputs": [
    {
     "name": "stdout",
     "output_type": "stream",
     "text": [
      "Processed tweets saved to processed_tweets.csv\n"
     ]
    }
   ],
   "source": [
    "# Define a set of Arabic stopwords (or you can use camel-tools' built-in stopwords)\n",
    "stop_words = set(stopwords.words(\"arabic\"))\n",
    "\n",
    "# Preprocessing Functions\n",
    "def remove_urls(text):\n",
    "    \"\"\"Remove URLs from text\"\"\"\n",
    "    url_pattern = r\"http[s]?://\\S+\"\n",
    "    return re.sub(url_pattern, \"\", text)\n",
    "\n",
    "def clean_tweet(text):\n",
    "    \"\"\"Remove mentions, hashtags, and special characters\"\"\"\n",
    "    text = re.sub(r\"@\\w+\", \"\", text)  # Remove mentions\n",
    "    text = re.sub(r\"#\\w+\", \"\", text)  # Remove hashtags\n",
    "    text = re.sub(r\"[^ا-ي0-9\\s]\", \"\", text)  # Remove special characters\n",
    "    return text\n",
    "\n",
    "def preprocess_tweet(tweet):\n",
    "    \"\"\"Preprocess a tweet by removing URLs, mentions, hashtags, and stopwords, and stemming\"\"\"\n",
    "    tweet = tweet.lower()  # Lowercase\n",
    "    tweet = remove_urls(tweet)  # Remove URLs\n",
    "    tweet = clean_tweet(tweet)  # Clean mentions and hashtags\n",
    "    tokens = word_tokenize(tweet)  # Tokenize the tweet\n",
    "    tokens = [word for word in tokens if word not in stop_words]  # Remove stopwords\n",
    "    return \" \".join(tokens)\n",
    "\n",
    "# Apply preprocessing to each tweet\n",
    "df['processedTweet'] = df['tweetText'].apply(preprocess_tweet)\n",
    "\n",
    "\n",
    "df.to_csv(output_file, index=False)\n",
    "\n",
    "print(f\"Processed tweets saved to {output_file}\")"
   ]
  },
  {
   "cell_type": "code",
   "execution_count": 57,
   "metadata": {},
   "outputs": [
    {
     "name": "stdout",
     "output_type": "stream",
     "text": [
      "File with no duplicates saved to processed_tweets_no_duplicates.csv\n"
     ]
    }
   ],
   "source": [
    "output_file = 'processed_tweets.csv'\n",
    "\n",
    "df_no_duplicates = df.drop_duplicates(subset='processedTweet', keep='first')\n",
    "\n",
    "df_no_duplicates.to_csv(output_file, index=False)\n",
    "\n",
    "print(f\"File with no duplicates saved to {output_file}\")"
   ]
  }
 ],
 "metadata": {
  "kernelspec": {
   "display_name": "ai701",
   "language": "python",
   "name": "python3"
  },
  "language_info": {
   "codemirror_mode": {
    "name": "ipython",
    "version": 3
   },
   "file_extension": ".py",
   "mimetype": "text/x-python",
   "name": "python",
   "nbconvert_exporter": "python",
   "pygments_lexer": "ipython3",
   "version": "3.8.19"
  }
 },
 "nbformat": 4,
 "nbformat_minor": 2
}
